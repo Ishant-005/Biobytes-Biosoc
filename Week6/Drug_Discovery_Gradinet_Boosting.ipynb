{
  "nbformat": 4,
  "nbformat_minor": 0,
  "metadata": {
    "colab": {
      "provenance": []
    },
    "kernelspec": {
      "name": "python3",
      "display_name": "Python 3"
    },
    "language_info": {
      "name": "python"
    }
  },
  "cells": [
    {
      "cell_type": "code",
      "execution_count": 28,
      "metadata": {
        "id": "NvAXXW-lWdt0"
      },
      "outputs": [],
      "source": [
        "import numpy as np\n",
        "import pandas as pd\n",
        "from sklearn.model_selection import train_test_split, RandomizedSearchCV, KFold, cross_val_score\n",
        "from sklearn.ensemble import RandomForestRegressor, GradientBoostingRegressor\n",
        "from sklearn.metrics import mean_absolute_error, make_scorer\n",
        "from sklearn.preprocessing import StandardScaler\n",
        "from scipy.stats import randint, uniform\n",
        "import matplotlib.pyplot as plt\n"
      ]
    },
    {
      "cell_type": "code",
      "source": [
        "df = pd.read_csv('/content/coronavirus_06_bioactivity_data_3class_pIC50_pubchem_fp.csv')"
      ],
      "metadata": {
        "id": "LBTz-uBFW3iF"
      },
      "execution_count": 3,
      "outputs": []
    },
    {
      "cell_type": "code",
      "source": [
        "X = df.drop(columns=['pIC50'])\n",
        "y = df['pIC50']"
      ],
      "metadata": {
        "id": "GjcQn9d9XfsP"
      },
      "execution_count": 4,
      "outputs": []
    },
    {
      "cell_type": "code",
      "source": [
        "X_train, X_test, y_train, y_test = train_test_split(X, y, test_size=0.2, random_state=42)"
      ],
      "metadata": {
        "id": "-iaC1DM2XiFM"
      },
      "execution_count": 5,
      "outputs": []
    },
    {
      "cell_type": "markdown",
      "source": [
        "feature scalling"
      ],
      "metadata": {
        "id": "sNY7Sh8NeevU"
      }
    },
    {
      "cell_type": "code",
      "source": [
        "scaler = StandardScaler()\n",
        "X_train_scaled = scaler.fit_transform(X_train)\n",
        "X_test_scaled = scaler.transform(X_test)"
      ],
      "metadata": {
        "id": "0BvbzaPnXkjA"
      },
      "execution_count": 6,
      "outputs": []
    },
    {
      "cell_type": "markdown",
      "source": [
        " Initialize the Gradient Boosting regressor"
      ],
      "metadata": {
        "id": "TJ5nM1Qnemju"
      }
    },
    {
      "cell_type": "code",
      "source": [
        "gb = GradientBoostingRegressor(random_state=42)"
      ],
      "metadata": {
        "id": "NdoH6s50Z_45"
      },
      "execution_count": 12,
      "outputs": []
    },
    {
      "cell_type": "markdown",
      "source": [
        "Define the parameter distribution for Gradient Boosting"
      ],
      "metadata": {
        "id": "Gt3OWQ5YfB4q"
      }
    },
    {
      "cell_type": "code",
      "source": [
        "gb_param_dist = {\n",
        "    'n_estimators': randint(100, 1000),\n",
        "    'learning_rate': uniform(0.01, 0.1),\n",
        "    'max_depth': randint(3, 30),\n",
        "    'min_samples_split': randint(2, 20),\n",
        "    'min_samples_leaf': randint(1, 20),\n",
        "    'subsample': uniform(0.7, 0.3)\n",
        "}"
      ],
      "metadata": {
        "id": "jaL1b2eFaIP4"
      },
      "execution_count": 35,
      "outputs": []
    },
    {
      "cell_type": "markdown",
      "source": [
        "Set up RandomizedSearchCV for Gradient Boosting"
      ],
      "metadata": {
        "id": "WfJpXaIifHam"
      }
    },
    {
      "cell_type": "code",
      "source": [
        "gb_random_search = RandomizedSearchCV(\n",
        "    estimator=gb,\n",
        "    param_distributions=gb_param_dist,\n",
        "    n_iter=100,\n",
        "    cv=kf,\n",
        "    scoring='neg_mean_absolute_error',\n",
        "    random_state=42,\n",
        "    n_jobs=-1\n",
        ")"
      ],
      "metadata": {
        "id": "Cra3fpgCX-it"
      },
      "execution_count": 36,
      "outputs": []
    },
    {
      "cell_type": "markdown",
      "source": [
        "fitting and getting the best estimator"
      ],
      "metadata": {
        "id": "M-xhdYbHhfKP"
      }
    },
    {
      "cell_type": "code",
      "source": [
        "\n",
        "gb_random_search.fit(X_train_scaled, y_train)\n",
        "\n",
        "\n",
        "best_gb = gb_random_search.best_estimator_"
      ],
      "metadata": {
        "id": "QpDwiqaFYA4O"
      },
      "execution_count": 37,
      "outputs": []
    },
    {
      "cell_type": "code",
      "source": [
        "gb_preds_test = best_gb.predict(X_test_scaled)\n",
        "gb_test_mae = mean_absolute_error(y_test, gb_preds_test)\n",
        "print(f\"Gradient Boosting MAE on test set: {gb_test_mae}\")"
      ],
      "metadata": {
        "colab": {
          "base_uri": "https://localhost:8080/"
        },
        "id": "GspTF7jVfvhC",
        "outputId": "9ce582a7-e933-47b2-ac9b-de0bfaaa0377"
      },
      "execution_count": 38,
      "outputs": [
        {
          "output_type": "stream",
          "name": "stdout",
          "text": [
            "Gradient Boosting MAE on test set: 0.4564774380300531\n"
          ]
        }
      ]
    },
    {
      "cell_type": "code",
      "source": [
        "plt.figure(figsize=(8, 6))\n",
        "plt.scatter(y_test, gb_preds_test, color='blue', alpha=0.7)\n",
        "plt.title('Experimental vs Predicted pIC50 Values (Gradient Boosting)')\n",
        "plt.xlabel('Experimental pIC50')\n",
        "plt.ylabel('Predicted pIC50')\n",
        "plt.grid(True)\n",
        "plt.show()"
      ],
      "metadata": {
        "colab": {
          "base_uri": "https://localhost:8080/",
          "height": 564
        },
        "id": "99X_PhnqaRE8",
        "outputId": "3aad1a56-3bb2-4fc9-a010-935ae32d5461"
      },
      "execution_count": 39,
      "outputs": [
        {
          "output_type": "display_data",
          "data": {
            "text/plain": [
              "<Figure size 800x600 with 1 Axes>"
            ],
            "image/png": "[encoded data removed]"
          },
          "metadata": {}
        }
      ]
    },
    {
      "cell_type": "code",
      "source": [],
      "metadata": {
        "id": "UxxOONC3aaLd"
      },
      "execution_count": null,
      "outputs": []
    }
  ]
}